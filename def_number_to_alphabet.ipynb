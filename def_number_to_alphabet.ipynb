{
 "cells": [
  {
   "cell_type": "code",
   "execution_count": 1,
   "metadata": {},
   "outputs": [
    {
     "name": "stdout",
     "output_type": "stream",
     "text": [
      "I have two apples and eight one oranges. The price is one thousand two hundred dollars.\n"
     ]
    }
   ],
   "source": [
    "# 숫자 -> 알파벳\n",
    "import re\n",
    "\n",
    "# 숫자 단어와 실제 숫자의 매핑\n",
    "number_map = {\n",
    "    'zero': '0', 'one': '1', 'two': '2', 'three': '3', 'four': '4',\n",
    "    'five': '5', 'six': '6', 'seven': '7', 'eight': '8', 'nine': '9',\n",
    "    'ten': '10', 'eleven': '11', 'twelve': '12', 'thirteen': '13', 'fourteen': '14',\n",
    "    'fifteen': '15', 'sixteen': '16', 'seventeen': '17', 'eighteen': '18', 'nineteen': '19',\n",
    "    'twenty': '20', 'thirty': '30', 'forty': '40', 'fifty': '50', 'sixty': '60',\n",
    "    'seventy': '70', 'eighty': '80', 'ninety': '90'\n",
    "}\n",
    "\n",
    "reverse_number_map = {v: k for k, v in number_map.items()}\n",
    "\n",
    "# 숫자를 단어로 변환하는 함수\n",
    "def convert_number_to_words(number):\n",
    "    if number == 0:\n",
    "        return 'zero'\n",
    "    if number < 20:\n",
    "        return reverse_number_map[str(number)]\n",
    "    elif number < 100:\n",
    "        tens, below_ten = divmod(number, 10)\n",
    "        return reverse_number_map[str(tens)] + (' ' + reverse_number_map[str(below_ten)] if below_ten else '')\n",
    "    elif number < 1000 and number%100 == 0:\n",
    "        hundreds, below_hundred = divmod(number, 100)\n",
    "        return reverse_number_map[str(hundreds)] + ' hundred' + (' ' + convert_number_to_words(below_hundred) if below_hundred else '')\n",
    "    elif number < 1000 and number%100 != 0:\n",
    "        hundreds, below_hundred = divmod(number, 100)\n",
    "        if below_hundred < 10:\n",
    "            return reverse_number_map[str(hundreds)] + (' zero ' + convert_number_to_words(below_hundred) if below_hundred else '')\n",
    "        else:\n",
    "            return reverse_number_map[str(hundreds)] + (' ' + convert_number_to_words(below_hundred) if below_hundred else '')\n",
    "    elif number < 10000 and number%100 == 0:\n",
    "        thousands, below_thousand = divmod(number, 1000)\n",
    "        return convert_number_to_words(thousands) + ' thousand' + (' ' + convert_number_to_words(below_thousand) if below_thousand else '')\n",
    "    elif number < 10000 and number%100 != 0:\n",
    "        thousands, below_thousand = divmod(number, 1000)\n",
    "        if below_thousand < 100:\n",
    "            return reverse_number_map[str(thousands)] +  (' zero ' + convert_number_to_words(below_thousand) if below_thousand else '')\n",
    "        else:\n",
    "            return reverse_number_map[str(thousands)] +  (' ' + convert_number_to_words(below_thousand) if below_thousand else '')\n",
    "    elif number >= 10000 and number%1000 == 0:\n",
    "        thousands, below_thousand = divmod(number, 1000)\n",
    "        return convert_number_to_words(thousands) + ' thousand' +  (' ' + convert_number_to_words(below_thousand) if below_thousand else '')\n",
    "    else:\n",
    "        nums = ''\n",
    "        number = str(number) \n",
    "        for num in number:\n",
    "            num + '' +reverse_number_map[num]\n",
    "        return nums\n",
    " \n",
    "# 텍스트에서 숫자를 단어로 변환하는 함수\n",
    "def convert_numbers_to_words(text):\n",
    "    if not isinstance(text, str):\n",
    "        return text\n",
    "    # 숫자를 찾는 정규식 패턴\n",
    "    pattern = re.compile(r'\\d+')\n",
    "    return pattern.sub(lambda x: convert_number_to_words(int(x.group())), text)\n",
    "\n",
    "# 테스트\n",
    "text = \"I have 2 apples and 81 oranges. The price is 1200 dollars.\"\n",
    "converted_text = convert_numbers_to_words(text)\n",
    "print(converted_text)  # 결과: I have two apples and eighty one oranges. The price is one thousand two hundred dollars.\n"
   ]
  },
  {
   "cell_type": "code",
   "execution_count": null,
   "metadata": {},
   "outputs": [],
   "source": []
  }
 ],
 "metadata": {
  "kernelspec": {
   "display_name": "rag",
   "language": "python",
   "name": "python3"
  },
  "language_info": {
   "codemirror_mode": {
    "name": "ipython",
    "version": 3
   },
   "file_extension": ".py",
   "mimetype": "text/x-python",
   "name": "python",
   "nbconvert_exporter": "python",
   "pygments_lexer": "ipython3",
   "version": "3.8.19"
  }
 },
 "nbformat": 4,
 "nbformat_minor": 2
}
